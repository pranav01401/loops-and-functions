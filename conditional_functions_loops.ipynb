{
 "cells": [
  {
   "cell_type": "markdown",
   "id": "1f38fc13",
   "metadata": {},
   "source": [
    "## branching with conditional \n",
    "\n",
    "![](https://i.imgur.com/7RfcHV0.png)"
   ]
  },
  {
   "cell_type": "markdown",
   "id": "0f40061a",
   "metadata": {},
   "source": [
    "The condition can be a value, variable or expression. If the condition evaluates to True, then the statements within the if block are executed. Notice the four spaces before statement1, statement2, etc. The spaces inform Python that these statements are associated with the if statement above. This technique of structuring code by adding spaces is called indentation\n",
    "\n",
    ">Indentation: Python relies heavily on indentation (white space before a statement) to define code structure. This makes Python code easy to read and understand. You can run into problems if you don't use indentation properly. Indent your code by placing the cursor at the start of the line and pressing the Tab key once to add 4 spaces. Pressing Tab again will indent the code further by 4 more spaces, and press Shift+Tab will reduce the indentation by 4 spaces."
   ]
  },
  {
   "cell_type": "code",
   "execution_count": 1,
   "id": "d4939a60",
   "metadata": {},
   "outputs": [],
   "source": [
    "##\n"
   ]
  },
  {
   "cell_type": "code",
   "execution_count": 2,
   "id": "ee7488e3",
   "metadata": {},
   "outputs": [
    {
     "name": "stdout",
     "output_type": "stream",
     "text": [
      "you are inside the if statement\n",
      "34 is even\n"
     ]
    }
   ],
   "source": [
    "a=34\n",
    "if a%2==0:\n",
    "    print('you are inside the if statement')\n",
    "    print('{} is even'.format(a))"
   ]
  },
  {
   "cell_type": "code",
   "execution_count": 3,
   "id": "8c2bfa04",
   "metadata": {},
   "outputs": [],
   "source": [
    "a=35\n",
    "if a%2==0:\n",
    "    print('you are inside the if statement')\n",
    "    print('{} is even'.format(a))"
   ]
  },
  {
   "cell_type": "markdown",
   "id": "4689cc84",
   "metadata": {},
   "source": [
    "As expected, since the condition `another_number % 2 == 0` evaluates to `False`, no message is printed. \n",
    "\n",
    "### The `else` statement\n",
    "\n",
    "We may want to print a different message if the number is not even in the above example. This can be done by adding the `else` statement. It is written as follows:\n",
    "\n",
    "```\n",
    "if condition:\n",
    "    statement1\n",
    "    statement2\n",
    "else:\n",
    "    statement4\n",
    "    statement5\n",
    "\n",
    "```\n",
    "\n",
    "If `condition` evaluates to `True`, the statements in the `if` block are executed. If it evaluates to `False`, the statements in the `else` block are executed."
   ]
  },
  {
   "cell_type": "code",
   "execution_count": 4,
   "id": "a035fd30",
   "metadata": {},
   "outputs": [
    {
     "name": "stdout",
     "output_type": "stream",
     "text": [
      "you are inside the else statement\n",
      "35 is odd\n"
     ]
    }
   ],
   "source": [
    "a=35\n",
    "if a%2==0:\n",
    "    print('you are inside the if statement')\n",
    "    print('{} is even'.format(a))\n",
    "else: \n",
    "    print('you are inside the else statement')\n",
    "    print('{} is odd'.format(a))"
   ]
  },
  {
   "cell_type": "code",
   "execution_count": 5,
   "id": "5ae230a6",
   "metadata": {},
   "outputs": [],
   "source": [
    "friends=('arpit','ansul','pkp','rahul','gurpreet','pankaj')"
   ]
  },
  {
   "cell_type": "code",
   "execution_count": 6,
   "id": "e7495395",
   "metadata": {},
   "outputs": [
    {
     "name": "stdout",
     "output_type": "stream",
     "text": [
      "rahul is a friend\n"
     ]
    }
   ],
   "source": [
    "a='rahul'\n",
    "if  a in friends:\n",
    "    print('{} is a friend'.format(a))\n",
    "else:\n",
    "    print('{} is not a friend'.format(a))"
   ]
  },
  {
   "cell_type": "code",
   "execution_count": 7,
   "id": "975c628d",
   "metadata": {},
   "outputs": [
    {
     "name": "stdout",
     "output_type": "stream",
     "text": [
      "prof is not a friend\n"
     ]
    }
   ],
   "source": [
    "a='prof'\n",
    "if  a in friends:\n",
    "    print('{} is a friend'.format(a))\n",
    "else:\n",
    "    print('{} is not a friend'.format(a))"
   ]
  },
  {
   "cell_type": "markdown",
   "id": "8a4bee1c",
   "metadata": {},
   "source": [
    "### The `elif` statement\n",
    "\n",
    "Python also provides an `elif` statement (short for \"else if\") to chain a series of conditional blocks. The conditions are evaluated one by one. For the first condition that evaluates to `True`, the block of statements below it is executed. The remaining conditions and statements are not evaluated. So, in an `if`, `elif`, `elif`... chain, at most one block of statements is executed, the one corresponding to the first condition that evaluates to `True`. "
   ]
  },
  {
   "cell_type": "markdown",
   "id": "17d9ac38",
   "metadata": {},
   "source": [
    "Using `if`, `elif`, and `else` together¶\n",
    "You can also include an `else` statement at the end of a chain of if, elif... statements. This code within the else block is evaluated when none of the conditions hold true."
   ]
  },
  {
   "cell_type": "markdown",
   "id": "1e58884f",
   "metadata": {},
   "source": [
    "### nested if statement"
   ]
  },
  {
   "cell_type": "code",
   "execution_count": 8,
   "id": "7cf9e947",
   "metadata": {},
   "outputs": [
    {
     "name": "stdout",
     "output_type": "stream",
     "text": [
      "the number 20 is even\n",
      "the number 20 is not divisible by 3 \n",
      "the number 20 is divisible by 5\n"
     ]
    }
   ],
   "source": [
    "a=20\n",
    "if a%2==0: \n",
    "    print('the number {} is even'.format(a))\n",
    "    if a%3==0:\n",
    "        print('the number {} is divisible by 3'.format(a))\n",
    "    else:\n",
    "        print('the number {} is not divisible by 3 '.format(a))\n",
    "\n",
    "if a%5==0:\n",
    "    print('the number {} is divisible by 5'.format(a))"
   ]
  },
  {
   "cell_type": "markdown",
   "id": "064ca3d7",
   "metadata": {},
   "source": [
    "### iteration with while loops"
   ]
  },
  {
   "cell_type": "code",
   "execution_count": 9,
   "id": "8f6a0963",
   "metadata": {},
   "outputs": [],
   "source": [
    "##finding the factorial of a number\n",
    "global result\n",
    "\n",
    "global i\n",
    "\n",
    "def factorial(num):\n",
    "    i=1\n",
    "    result=1\n",
    "    while i<= num:\n",
    "        result=result*i\n",
    "        i=i+1\n",
    "    return print('the factorial of {} is {}'.format(num,result))"
   ]
  },
  {
   "cell_type": "code",
   "execution_count": 10,
   "id": "400f19bb",
   "metadata": {},
   "outputs": [
    {
     "name": "stdout",
     "output_type": "stream",
     "text": [
      "the factorial of 100 is 93326215443944152681699238856266700490715968264381621468592963895217599993229915608941463976156518286253697920827223758251185210916864000000000000000000000000\n"
     ]
    }
   ],
   "source": [
    "factorial(100)"
   ]
  },
  {
   "cell_type": "code",
   "execution_count": 11,
   "id": "92a30f7d",
   "metadata": {},
   "outputs": [
    {
     "name": "stdout",
     "output_type": "stream",
     "text": [
      "the factorial of 100 is 93326215443944152681699238856266700490715968264381621468592963895217599993229915608941463976156518286253697920827223758251185210916864000000000000000000000000\n"
     ]
    }
   ],
   "source": [
    "result=1\n",
    "i=1\n",
    "\n",
    "while i<=100:\n",
    "    result*=i\n",
    "    i+=1\n",
    "    \n",
    "print('the factorial of 100 is {}'.format(result))\n",
    "    \n"
   ]
  },
  {
   "cell_type": "code",
   "execution_count": 12,
   "id": "9415ec3e",
   "metadata": {},
   "outputs": [
    {
     "name": "stdout",
     "output_type": "stream",
     "text": [
      "the factorial of 10 is :402387260077093773543702433923003985719374864210714632543799910429938512398629020592044208486969404800479988610197196058631666872994808558901323829669944590997424504087073759918823627727188732519779505950995276120874975462497043601418278094646496291056393887437886487337119181045825783647849977012476632889835955735432513185323958463075557409114262417474349347553428646576611667797396668820291207379143853719588249808126867838374559731746136085379534524221586593201928090878297308431392844403281231558611036976801357304216168747609675871348312025478589320767169132448426236131412508780208000261683151027341827977704784635868170164365024153691398281264810213092761244896359928705114964975419909342221566832572080821333186116811553615836546984046708975602900950537616475847728421889679646244945160765353408198901385442487984959953319101723355556602139450399736280750137837615307127761926849034352625200015888535147331611702103968175921510907788019393178114194545257223865541461062892187960223838971476088506276862967146674697562911234082439208160153780889893964518263243671616762179168909779911903754031274622289988005195444414282012187361745992642956581746628302955570299024324153181617210465832036786906117260158783520751516284225540265170483304226143974286933061690897968482590125458327168226458066526769958652682272807075781391858178889652208164348344825993266043367660176999612831860788386150279465955131156552036093988180612138558600301435694527224206344631797460594682573103790084024432438465657245014402821885252470935190620929023136493273497565513958720559654228749774011413346962715422845862377387538230483865688976461927383814900140767310446640259899490222221765904339901886018566526485061799702356193897017860040811889729918311021171229845901641921068884387121855646124960798722908519296819372388642614839657382291123125024186649353143970137428531926649875337218940694281434118520158014123344828015051399694290153483077644569099073152433278288269864602789864321139083506217095002597389863554277196742822248757586765752344220207573630569498825087968928162753848863396909959826280956121450994871701244516461260379029309120889086942028510640182154399457156805941872748998094254742173582401063677404595741785160829230135358081840096996372524230560855903700624271243416909004153690105933983835777939410970027753472000000000000000000000000000000000000000000000000000000000000000000000000000000000000000000000000000000000000000000000000000000000000000000000000000000000000000000000000000000000000000000000000000000000000000000000000000000000000000000000000000000000\n",
      "time taken is :\n"
     ]
    },
    {
     "data": {
      "text/plain": [
       "0.0039980411529541016"
      ]
     },
     "execution_count": 12,
     "metadata": {},
     "output_type": "execute_result"
    }
   ],
   "source": [
    "## checking the time of calculation\n",
    "import time\n",
    "start_time=time.time()\n",
    "\n",
    "result=1\n",
    "i=1\n",
    "\n",
    "while i<=1000:\n",
    "    result*=i\n",
    "    i+=1\n",
    "    \n",
    "print('the factorial of 10 is :{}'.format(result))\n",
    "\n",
    "print('time taken is :')\n",
    "(time.time()-start_time)"
   ]
  },
  {
   "cell_type": "markdown",
   "id": "bf695b7a",
   "metadata": {},
   "source": [
    "##### using the pattern make the following patterns.\n",
    "        *\n",
    "        **\n",
    "        ***\n",
    "        ****\n",
    "        *****\n",
    "        ******\n",
    "        *******\n",
    "        ********\n",
    "        *********\n",
    "        **********\n",
    "        *********\n",
    "        ********\n",
    "        *******\n",
    "        ******\n",
    "        *****\n",
    "        ****\n",
    "        ***\n",
    "        **\n",
    "        *\n",
    "       "
   ]
  },
  {
   "cell_type": "code",
   "execution_count": 13,
   "id": "0c6865b6",
   "metadata": {},
   "outputs": [
    {
     "name": "stdout",
     "output_type": "stream",
     "text": [
      "*\n",
      "**\n",
      "***\n",
      "****\n",
      "*****\n",
      "******\n",
      "*******\n",
      "********\n",
      "*********\n",
      "**********\n",
      "**********\n",
      "*********\n",
      "********\n",
      "*******\n",
      "******\n",
      "*****\n",
      "****\n",
      "***\n",
      "**\n",
      "*\n",
      "\n"
     ]
    }
   ],
   "source": [
    "i=1\n",
    "back=10\n",
    "star='*'\n",
    "while i<=10 :\n",
    "    print(star*i)\n",
    "    i+=1\n",
    "\n",
    "while back>=0:\n",
    "    print(star*back)\n",
    "    back-=1"
   ]
  },
  {
   "cell_type": "markdown",
   "id": "cd51ebed",
   "metadata": {},
   "source": [
    "Here's another one, putting the two together:\n",
    "\n",
    "\n",
    "```\n",
    "          *\n",
    "         ***\n",
    "        *****\n",
    "       *******\n",
    "      *********\n",
    "     ***********\n",
    "      *********\n",
    "       *******\n",
    "        *****\n",
    "         ***\n",
    "          *\n",
    "```"
   ]
  },
  {
   "cell_type": "code",
   "execution_count": 14,
   "id": "38378278",
   "metadata": {},
   "outputs": [
    {
     "name": "stdout",
     "output_type": "stream",
     "text": [
      "      *\n",
      "     ***\n",
      "    *****\n",
      "   *******\n",
      "  *********\n",
      " ***********\n",
      "  *********\n",
      "   *******\n",
      "    *****\n",
      "     ***\n",
      "      *\n"
     ]
    }
   ],
   "source": [
    "##printing the output above\n",
    "i=1\n",
    "star='*'\n",
    "key=\" \"\n",
    "global back\n",
    "back=11\n",
    "space=5\n",
    "while i<=11:\n",
    "    print(space*key,star*i)\n",
    "    i+=2\n",
    "    space-=1\n",
    "\n",
    "back=9\n",
    "space=1\n",
    "\n",
    "while back>=1:\n",
    "    print((space)*key,star*back)\n",
    "    back-=2\n",
    "    space+=1"
   ]
  },
  {
   "cell_type": "code",
   "execution_count": 15,
   "id": "bb256aa2",
   "metadata": {},
   "outputs": [],
   "source": [
    "##take the input rows from the user for diamond\n"
   ]
  },
  {
   "cell_type": "markdown",
   "id": "2fb795fd",
   "metadata": {},
   "source": [
    "### Infinite Loops\n",
    "\n",
    "Suppose the condition in a `while` loop always holds true. In that case, Python repeatedly executes the code within the loop forever, and the execution of the code never completes. This situation is called an infinite loop. It generally indicates that you've made a mistake in your code. For example, you may have provided the wrong condition or forgotten to update a variable within the loop, eventually falsifying the condition.\n",
    "\n",
    "If your code is *stuck* in an infinite loop during execution, just press the \"Stop\" button on the toolbar (next to \"Run\") or select \"Kernel > Interrupt\" from the menu bar. This will *interrupt* the execution of the code. The following two cells both lead to infinite loops and need to be interrupted."
   ]
  },
  {
   "cell_type": "markdown",
   "id": "4e601369",
   "metadata": {},
   "source": [
    "### `break` and `continue` statements\n",
    "\n",
    "You can use the `break` statement within the loop's body to immediately stop the execution and *break* out of the loop (even if the condition provided to `while` still holds true)."
   ]
  },
  {
   "cell_type": "code",
   "execution_count": 16,
   "id": "9ac275fe",
   "metadata": {},
   "outputs": [
    {
     "name": "stdout",
     "output_type": "stream",
     "text": [
      "Enter the number of rows in diamond shape:5\n",
      "0\n",
      "1\n",
      "2\n",
      "3\n",
      "4\n"
     ]
    }
   ],
   "source": [
    "row=int(input('Enter the number of rows in diamond shape:'))\n",
    "i=1\n",
    "for i in range(row):\n",
    "    print(i)\n",
    "    "
   ]
  },
  {
   "cell_type": "markdown",
   "id": "e93001ef",
   "metadata": {},
   "source": [
    "### `break` and `continue` statements\n",
    "\n",
    "You can use the `break` statement within the loop's body to immediately stop the execution and *break* out of the loop (even if the condition provided to `while` still holds true)."
   ]
  },
  {
   "cell_type": "code",
   "execution_count": 17,
   "id": "e2bc3f53",
   "metadata": {},
   "outputs": [
    {
     "name": "stdout",
     "output_type": "stream",
     "text": [
      "Magic number 42 reached! Stopping execution..\n",
      "i: 42\n",
      "result: 1405006117752879898543142606244511569936384000000000\n"
     ]
    }
   ],
   "source": [
    "i = 1\n",
    "result = 1\n",
    "\n",
    "while i <= 100:\n",
    "    result *= i\n",
    "    if i == 42:\n",
    "        print('Magic number 42 reached! Stopping execution..')\n",
    "        break\n",
    "    i += 1\n",
    "    \n",
    "print('i:', i)\n",
    "print('result:', result)"
   ]
  },
  {
   "cell_type": "markdown",
   "id": "d6a8df6c",
   "metadata": {},
   "source": [
    "Logging: The process of adding print statements at different points in the code (often within loops and conditional statements) for inspecting the values of variables at various stages of execution is called logging. As our programs get larger, they naturally become prone to human errors. Logging can help in verifying the program is working as expected. In many cases, print statements are added while writing & testing some code and are removed later."
   ]
  },
  {
   "cell_type": "code",
   "execution_count": 18,
   "id": "9f40963e",
   "metadata": {},
   "outputs": [
    {
     "name": "stdout",
     "output_type": "stream",
     "text": [
      "even num 2 reached\n",
      "multiplying by number 3 \n",
      "even num 4 reached\n",
      "multiplying by number 5 \n",
      "even num 6 reached\n",
      "multiplying by number 7 \n",
      "even num 8 reached\n",
      "multiplying by number 9 \n",
      "even num 10 reached\n",
      "multiplying by number 11 \n",
      "even num 12 reached\n",
      "multiplying by number 13 \n",
      "even num 14 reached\n",
      "multiplying by number 15 \n",
      "even num 16 reached\n",
      "multiplying by number 17 \n",
      "even num 18 reached\n",
      "multiplying by number 19 \n",
      "even num 20 reached\n",
      "the product is 654729075\n"
     ]
    }
   ],
   "source": [
    "##example of logging print odd multiples of factorial 10\n",
    "i=1\n",
    "prod=1\n",
    "\n",
    "while i<20:\n",
    "    i+=1\n",
    "    if(i%2==0):\n",
    "        print('even num {} reached'.format(i))\n",
    "        continue\n",
    "    print('multiplying by number {} '.format(i))\n",
    "    prod=prod*i\n",
    "    \n",
    "print('the product is {}'.format(prod))"
   ]
  },
  {
   "cell_type": "markdown",
   "id": "f6b793ee",
   "metadata": {},
   "source": [
    "## Iteration with `for` loops\n",
    "\n",
    "A `for` loop is used for iterating or looping over sequences, i.e., lists, tuples, dictionaries, strings, and *ranges*. For loops have the following syntax:\n",
    "\n",
    "```\n",
    "for value in sequence:\n",
    "    statement(s)\n",
    "```\n",
    "\n",
    "The statements within the loop are executed once for each element in `sequence`. Here's an example that prints all the element of a list."
   ]
  },
  {
   "cell_type": "code",
   "execution_count": 19,
   "id": "fb5ced77",
   "metadata": {},
   "outputs": [
    {
     "name": "stdout",
     "output_type": "stream",
     "text": [
      "Monday\n",
      "Tuesday\n",
      "Wednesday\n",
      "Thursday\n",
      "Friday\n"
     ]
    }
   ],
   "source": [
    "days=['Monday','Tuesday','Wednesday','Thursday','Friday']\n",
    "for day in days:\n",
    "    print(day)"
   ]
  },
  {
   "cell_type": "code",
   "execution_count": 20,
   "id": "6f846bb0",
   "metadata": {},
   "outputs": [
    {
     "name": "stdout",
     "output_type": "stream",
     "text": [
      "M\n",
      "o\n",
      "n\n",
      "d\n",
      "a\n",
      "y\n"
     ]
    }
   ],
   "source": [
    "for char in 'Monday':\n",
    "    print(char)"
   ]
  },
  {
   "cell_type": "code",
   "execution_count": 21,
   "id": "75214db0",
   "metadata": {},
   "outputs": [
    {
     "name": "stdout",
     "output_type": "stream",
     "text": [
      "key: name values:  John Doe\n",
      "key: sex values:  Male\n",
      "key: age values:  32\n",
      "key: married values:  True\n"
     ]
    }
   ],
   "source": [
    "## looping over a dictionary\n",
    "person = {\n",
    "    'name': 'John Doe',\n",
    "    'sex': 'Male',\n",
    "    'age': 32,\n",
    "    'married': True\n",
    "}\n",
    "\n",
    "for key in person:\n",
    "    print('key:',key,'values: ',person[key])"
   ]
  },
  {
   "cell_type": "markdown",
   "id": "71c2eb9a",
   "metadata": {},
   "source": [
    "Note that while using a dictionary with a `for` loop, the iteration happens over the dictionary's keys. The key can be used within the loop to access the value. You can also iterate directly over the values using the `.values` method or over key-value pairs using the `.items` method."
   ]
  },
  {
   "cell_type": "code",
   "execution_count": 22,
   "id": "4f411618",
   "metadata": {},
   "outputs": [
    {
     "name": "stdout",
     "output_type": "stream",
     "text": [
      "John Doe\n",
      "Male\n",
      "32\n",
      "True\n"
     ]
    }
   ],
   "source": [
    "for values in person.values():\n",
    "    print(values)"
   ]
  },
  {
   "cell_type": "code",
   "execution_count": 23,
   "id": "3b69aeb8",
   "metadata": {},
   "outputs": [
    {
     "name": "stdout",
     "output_type": "stream",
     "text": [
      "('name', 'John Doe')\n",
      "('sex', 'Male')\n",
      "('age', 32)\n",
      "('married', True)\n"
     ]
    }
   ],
   "source": [
    "for items in person.items():\n",
    "    print(items)"
   ]
  },
  {
   "cell_type": "markdown",
   "id": "ef631e26",
   "metadata": {},
   "source": [
    "### Iterating using `range` and `enumerate`\n",
    "\n",
    "The `range` function is used to create a sequence of numbers that can be iterated over using a `for` loop. It can be used in 3 ways:\n",
    " \n",
    "* `range(n)` - Creates a sequence of numbers from `0` to `n-1`\n",
    "* `range(a, b)` - Creates a sequence of numbers from `a` to `b-1`\n",
    "* `range(a, b, step)` - Creates a sequence of numbers from `a` to `b-1` with increments of `step`\n",
    "\n",
    "Let's try it out."
   ]
  },
  {
   "cell_type": "code",
   "execution_count": 24,
   "id": "5d6daf16",
   "metadata": {},
   "outputs": [
    {
     "name": "stdout",
     "output_type": "stream",
     "text": [
      "0\n",
      "1\n",
      "2\n",
      "3\n",
      "4\n",
      "5\n",
      "6\n"
     ]
    }
   ],
   "source": [
    "for i in range(7):\n",
    "    print (i)"
   ]
  },
  {
   "cell_type": "code",
   "execution_count": 25,
   "id": "3690bfe0",
   "metadata": {},
   "outputs": [
    {
     "name": "stdout",
     "output_type": "stream",
     "text": [
      "3\n",
      "4\n",
      "5\n",
      "6\n",
      "7\n",
      "8\n",
      "9\n",
      "10\n",
      "11\n",
      "12\n",
      "13\n",
      "14\n"
     ]
    }
   ],
   "source": [
    "for i in range(3,15):\n",
    "    print(i)"
   ]
  },
  {
   "cell_type": "code",
   "execution_count": 26,
   "id": "cc98ab29",
   "metadata": {},
   "outputs": [
    {
     "name": "stdout",
     "output_type": "stream",
     "text": [
      "3\n",
      "7\n",
      "11\n",
      "15\n"
     ]
    }
   ],
   "source": [
    "for i in range(3,17,4):\n",
    "    print( i)"
   ]
  },
  {
   "cell_type": "markdown",
   "id": "79410db7",
   "metadata": {},
   "source": [
    "## Functions\n",
    "\n",
    "A function is a reusable set of instructions that takes one or more inputs, performs some operations, and often returns an output. Python contains many in-built functions like `print`, `len`, etc., and provides the ability to define new ones."
   ]
  },
  {
   "cell_type": "code",
   "execution_count": 27,
   "id": "b3a68512",
   "metadata": {},
   "outputs": [],
   "source": [
    "def primary():\n",
    "    print('hi how are you')\n",
    "    print('how are you doing')"
   ]
  },
  {
   "cell_type": "code",
   "execution_count": 28,
   "id": "bc088106",
   "metadata": {},
   "outputs": [
    {
     "name": "stdout",
     "output_type": "stream",
     "text": [
      "hi how are you\n",
      "how are you doing\n"
     ]
    }
   ],
   "source": [
    "##invoking a function\n",
    "primary()"
   ]
  },
  {
   "cell_type": "markdown",
   "id": "5c01868e",
   "metadata": {},
   "source": [
    "Note the round brackets or parentheses `()` and colon `:` after the function's name. Both are essential parts of the syntax. The function's *body* contains an indented block of statements. The statements inside a function's body are not executed when the function is defined. To execute the statements, we need to *call* or *invoke* the function."
   ]
  },
  {
   "cell_type": "markdown",
   "id": "2fcd5a10",
   "metadata": {},
   "source": [
    "### Function arguments\n",
    "\n",
    "Functions can accept zero or more values as *inputs* (also knows as *arguments* or *parameters*). Arguments help us write flexible functions that can perform the same operations on different values. Further, functions can return a result that can be stored in a variable or used in other expressions.\n",
    "\n",
    "Here's a function that filters out the even numbers from a list and returns a new list using the `return` keyword."
   ]
  },
  {
   "cell_type": "code",
   "execution_count": 29,
   "id": "403e3df7",
   "metadata": {},
   "outputs": [],
   "source": [
    "def primary(name):\n",
    "    print('hi {} :how are you?'.format(name))\n",
    "    print('how are you doing')"
   ]
  },
  {
   "cell_type": "code",
   "execution_count": 30,
   "id": "b88da1c8",
   "metadata": {},
   "outputs": [
    {
     "name": "stdout",
     "output_type": "stream",
     "text": [
      "hi john :how are you?\n",
      "how are you doing\n"
     ]
    }
   ],
   "source": [
    "primary('john')"
   ]
  },
  {
   "cell_type": "code",
   "execution_count": 31,
   "id": "d2234e28",
   "metadata": {},
   "outputs": [
    {
     "name": "stdout",
     "output_type": "stream",
     "text": [
      "hi jill :how are you?\n",
      "how are you doing\n"
     ]
    }
   ],
   "source": [
    "primary('jill')"
   ]
  },
  {
   "cell_type": "code",
   "execution_count": 32,
   "id": "2c302c35",
   "metadata": {},
   "outputs": [],
   "source": [
    "def keep_even(number_list):\n",
    "    even_list=list()\n",
    "    for i in number_list:\n",
    "        if i%2==0:\n",
    "            even_list.append(i)\n",
    "    return even_list"
   ]
  },
  {
   "cell_type": "code",
   "execution_count": 33,
   "id": "472793d1",
   "metadata": {},
   "outputs": [],
   "source": [
    "test_list=[1,2,3,4,5,6,7,8,9,20,22,12,12,14,15,56]\n",
    "even=keep_even(test_list)"
   ]
  },
  {
   "cell_type": "code",
   "execution_count": 34,
   "id": "a5e34858",
   "metadata": {},
   "outputs": [
    {
     "data": {
      "text/plain": [
       "[2, 4, 6, 8, 20, 22, 12, 12, 14, 56]"
      ]
     },
     "execution_count": 34,
     "metadata": {},
     "output_type": "execute_result"
    }
   ],
   "source": [
    "even"
   ]
  },
  {
   "cell_type": "code",
   "execution_count": 35,
   "id": "fc3227ba",
   "metadata": {},
   "outputs": [
    {
     "data": {
      "text/plain": [
       "[]"
      ]
     },
     "execution_count": 35,
     "metadata": {},
     "output_type": "execute_result"
    }
   ],
   "source": [
    "test_list2=[1,3,5,7,9,11,13,115]\n",
    "keep_even(test_list2)"
   ]
  },
  {
   "cell_type": "markdown",
   "id": "95bdf93b",
   "metadata": {},
   "source": [
    "## Writing great functions in Python\n",
    "\n",
    "As a programmer, you will spend most of your time writing and using functions. Python offers many features to make your functions powerful and flexible. Let's explore some of these by solving a problem:\n",
    "\n",
    "> Radha is planning to buy a house that costs `$1,260,000`. She considering two options to finance her purchase:\n",
    ">\n",
    "> * Option 1: Make an immediate down payment of `$300,000`, and take loan 8-year loan with an interest rate of 10% (compounded monthly) for the remaining amount.\n",
    "> * Option 2: Take a 10-year loan with an interest rate of 8% (compounded monthly) for the entire amount.\n",
    ">\n",
    "> Both these loans have to be paid back in equal monthly installments (EMIs). Which loan has a lower EMI among the two?\n",
    "\n",
    "\n",
    "Since we need to compare the EMIs for two loan options, defining a function to calculate the EMI for a loan would be a great idea.  The inputs to the function would be cost of the house, the down payment, duration of the loan, rate of interest etc. We'll build this function step by step.\n",
    "\n",
    "First, let's write a simple function that calculates the EMI on the entire cost of the house, assuming that the loan must be paid back in one year, and there is no interest or down payment."
   ]
  },
  {
   "cell_type": "markdown",
   "id": "62afc612",
   "metadata": {},
   "source": [
    "Next, let's add the interest calculation into the function. Here's the formula used to calculate the EMI for a loan:\n",
    "\n",
    "<img src=\"https://i.imgur.com/iKujHGK.png\" style=\"width:240px\">\n",
    "\n",
    "where:\n",
    "\n",
    "* `P` is the loan amount (principal)\n",
    "* `n` is the no. of months\n",
    "* `r` is the rate of interest per month\n",
    "\n",
    "The derivation of this formula is beyond the scope of this tutorial. See this video for an explanation: https://youtu.be/Coxza9ugW4E ."
   ]
  },
  {
   "cell_type": "code",
   "execution_count": 36,
   "id": "e5345bc5",
   "metadata": {},
   "outputs": [],
   "source": [
    "## Make an immediate down payment of $300,000, and take loan 8-year loan with an interest rate of\n",
    "## 10% (compounded monthly) for the remaining amount\n",
    "\n",
    "\n",
    "def emi(amount,time,rate_of_interest,downpayment=0):\n",
    "    loan=amount-downpayment\n",
    "    rate=rate_of_interest/12\n",
    "    time_in_months=time\n",
    "    \n",
    "    loan_amount=(loan*rate*((1+rate)**time))/(((1+rate)**time)-1)\n",
    "   \n",
    "    return loan_amount\n"
   ]
  },
  {
   "cell_type": "code",
   "execution_count": 37,
   "id": "37e1ed8f",
   "metadata": {},
   "outputs": [],
   "source": [
    "## Make an immediate down payment of $300,000, and take loan 8-year loan with an interest rate of\n",
    "## 10% (compounded monthly) for the remaining amount\n",
    "emi1=emi(amount=1.26e6,\n",
    "    rate_of_interest=0.1,\n",
    "    time=96,\n",
    "    downpayment=3e5)"
   ]
  },
  {
   "cell_type": "code",
   "execution_count": 38,
   "id": "68281b2f",
   "metadata": {},
   "outputs": [],
   "source": [
    "## Option 2: Take a 10-year loan with an interest rate of 8% (compounded monthly) \n",
    "## for the entire amount\n",
    "\n",
    "emi2=emi(amount=1.26e6,\n",
    "        time=120,\n",
    "        rate_of_interest=0.08)"
   ]
  },
  {
   "cell_type": "code",
   "execution_count": 39,
   "id": "c022e510",
   "metadata": {},
   "outputs": [
    {
     "name": "stdout",
     "output_type": "stream",
     "text": [
      "14567.19753389219\n"
     ]
    },
    {
     "data": {
      "text/plain": [
       "15287.276888775077"
      ]
     },
     "execution_count": 39,
     "metadata": {},
     "output_type": "execute_result"
    }
   ],
   "source": [
    "print(emi1)\n",
    "emi2"
   ]
  },
  {
   "cell_type": "code",
   "execution_count": 40,
   "id": "a00acf8d",
   "metadata": {},
   "outputs": [],
   "source": [
    "##rounding the emis to full dollars\n",
    "\n",
    "import math\n",
    "def emi(amount,time,rate_of_interest,downpayment=0):\n",
    "    loan=amount-downpayment\n",
    "    rate=rate_of_interest/12\n",
    "    time_in_months=time\n",
    "    \n",
    "    loan_amount=(loan*rate*((1+rate)**time))/(((1+rate)**time)-1)\n",
    "   \n",
    "    return math.ceil(loan_amount)"
   ]
  },
  {
   "cell_type": "code",
   "execution_count": 41,
   "id": "ca2d715e",
   "metadata": {},
   "outputs": [
    {
     "name": "stdout",
     "output_type": "stream",
     "text": [
      "14568\n",
      "15288\n"
     ]
    }
   ],
   "source": [
    "emi1=emi(amount=1.26e6,\n",
    "    rate_of_interest=0.1,\n",
    "    time=96,\n",
    "    downpayment=3e5)\n",
    "\n",
    "\n",
    "emi2=emi(amount=1.26e6,\n",
    "        time=120,\n",
    "        rate_of_interest=0.08)\n",
    "\n",
    "print(emi1)\n",
    "print(emi2)"
   ]
  },
  {
   "cell_type": "markdown",
   "id": "39766442",
   "metadata": {},
   "source": [
    "### Optional arguments\n",
    "\n",
    "Next, let's add another argument to account for the immediate down payment. We'll make this an *optional argument* with a default value of 0."
   ]
  },
  {
   "cell_type": "code",
   "execution_count": 42,
   "id": "aa23f491",
   "metadata": {},
   "outputs": [],
   "source": [
    "##write a function to remove decimals\n",
    "def ceiling(num):\n",
    "    num_without_dec=int(num-(num%num))\n",
    "    nex_num=num_without_dec+1\n",
    "    return nex_num\n",
    "    "
   ]
  },
  {
   "cell_type": "code",
   "execution_count": 43,
   "id": "2568dc46",
   "metadata": {},
   "outputs": [
    {
     "data": {
      "text/plain": [
       "24"
      ]
     },
     "execution_count": 43,
     "metadata": {},
     "output_type": "execute_result"
    }
   ],
   "source": [
    "ceiling(23.4853845)"
   ]
  },
  {
   "cell_type": "markdown",
   "id": "bec1db11",
   "metadata": {},
   "source": [
    "> **Q**: Shaun is currently paying back a home loan for a house he bought a few years ago. The cost of the house was `$800,000`. Shaun made a down payment of `25%` of the price. He financed the remaining amount using a 6-year loan with an interest rate of `7%` per annum (compounded monthly). Shaun is now buying a car worth `$60,000`, which he is planning to finance using a 1-year loan with an interest rate of `12%` per annum. Both loans are paid back in EMIs. What is the total monthly payment Shaun makes towards loan repayment?\n",
    "\n",
    "This question is now straightforward to solve, using the `loan_emi` function we've already defined."
   ]
  },
  {
   "cell_type": "code",
   "execution_count": 44,
   "id": "83c10df0",
   "metadata": {},
   "outputs": [],
   "source": [
    "##The two loans shaun has :\n",
    "emi_home=emi(amount=0.8e6,\n",
    "              downpayment=0.25*8e5,\n",
    "              rate_of_interest=0.07,\n",
    "              time=6*12)\n",
    "\n",
    "emi_car=emi(amount=60e3,\n",
    "            rate_of_interest=0.12,\n",
    "            time=12)"
   ]
  },
  {
   "cell_type": "code",
   "execution_count": 45,
   "id": "6f051204",
   "metadata": {},
   "outputs": [
    {
     "name": "stdout",
     "output_type": "stream",
     "text": [
      "shaun pays 15561 $ as monthly emi\n"
     ]
    }
   ],
   "source": [
    "total_emi=emi_car+emi_home\n",
    "print('shaun pays {} $ as monthly emi'.format(total_emi))"
   ]
  },
  {
   "cell_type": "markdown",
   "id": "63275a70",
   "metadata": {},
   "source": [
    "### Exceptions and `try`-`except`\n",
    "\n",
    "> Q: If you borrow `$100,000` using a 10-year loan with an interest rate of 9% per annum, what is the total amount you end up paying as interest?\n",
    "\n",
    "One way to solve this problem is to compare the EMIs for two loans: one with the given rate of interest and another with a 0% rate of interest. The total interest paid is then simply the sum of monthly differences over the duration of the loan."
   ]
  },
  {
   "cell_type": "code",
   "execution_count": 46,
   "id": "7419b4a8",
   "metadata": {},
   "outputs": [],
   "source": [
    "emi_with_interest=emi(amount=100000,rate_of_interest=0.09,time=120)"
   ]
  },
  {
   "cell_type": "code",
   "execution_count": 47,
   "id": "8ada5b24",
   "metadata": {},
   "outputs": [],
   "source": [
    "##gives an error zero division error\n",
    "##emi_without_interest=emi(amount=100000,rate_of_interest=0.0,time=120)"
   ]
  },
  {
   "cell_type": "markdown",
   "id": "4d0301b2",
   "metadata": {},
   "source": [
    " Something seems to have gone wrong! If you look at the error message above carefully, Python tells us precisely what is wrong. Python *throws* a `ZeroDivisionError` with a message indicating that we're trying to divide a number by zero. `ZeroDivisonError` is an *exception* that stops further execution of the program.\n",
    "\n",
    "> **Exception**: Even if a statement or expression is syntactically correct, it may cause an error when the Python interpreter tries to execute it. Errors detected during execution are called exceptions. Exceptions typically stop further execution of the program unless handled within the program using `try`-`except` statements.\n",
    "\n",
    "Python provides many built-in exceptions *thrown* when built-in operators, functions, or methods are used incorrectly: https://docs.python.org/3/library/exceptions.html#built-in-exceptions. You can also define your custom exception by extending the `Exception` class (more on that later).\n",
    "\n",
    "You can use the `try` and `except` statements to *handle* an exception. Here's an example:"
   ]
  },
  {
   "cell_type": "code",
   "execution_count": 48,
   "id": "f8816805",
   "metadata": {},
   "outputs": [
    {
     "name": "stdout",
     "output_type": "stream",
     "text": [
      "Now computing the result..\n",
      "Failed to compute result because you were trying to divide by zero\n",
      "None\n"
     ]
    }
   ],
   "source": [
    "try:\n",
    "    print(\"Now computing the result..\")\n",
    "    result = 5 / 0\n",
    "    print(\"Computation was completed successfully\")\n",
    "except ZeroDivisionError:\n",
    "    print(\"Failed to compute result because you were trying to divide by zero\")\n",
    "    result = None\n",
    "\n",
    "print(result)"
   ]
  },
  {
   "cell_type": "code",
   "execution_count": 49,
   "id": "4098c416",
   "metadata": {},
   "outputs": [],
   "source": [
    "\n",
    "\n",
    "def emi(amount,time,rate_of_interest,downpayment=0):\n",
    "    loan=amount-downpayment\n",
    "    rate=rate_of_interest/12\n",
    "    time_in_months=time\n",
    "    try:\n",
    "        emi=(loan*rate*((1+rate)**time))/(((1+rate)**time)-1)\n",
    "    except ZeroDivisionError:emi=loan/time\n",
    "    return math.ceil(emi)\n",
    "\n"
   ]
  },
  {
   "cell_type": "code",
   "execution_count": 50,
   "id": "a3b28608",
   "metadata": {},
   "outputs": [],
   "source": [
    "emi_without_interest=emi(amount=100000,rate_of_interest=0.0,time=120)"
   ]
  },
  {
   "cell_type": "code",
   "execution_count": 51,
   "id": "2cc19f73",
   "metadata": {},
   "outputs": [
    {
     "name": "stdout",
     "output_type": "stream",
     "text": [
      "834\n",
      "1267\n"
     ]
    }
   ],
   "source": [
    "print(emi_without_interest)\n",
    "print(emi_with_interest)\n"
   ]
  },
  {
   "cell_type": "code",
   "execution_count": 52,
   "id": "0ad7004e",
   "metadata": {},
   "outputs": [
    {
     "name": "stdout",
     "output_type": "stream",
     "text": [
      "the total interest paid is $51960\n"
     ]
    }
   ],
   "source": [
    "total_interest_paid=(emi_with_interest-emi_without_interest)*120\n",
    "\n",
    "print('the total interest paid is ${}'.format(total_interest_paid))"
   ]
  },
  {
   "cell_type": "markdown",
   "id": "06c83cc6",
   "metadata": {},
   "source": [
    "### Documenting functions using Docstrings\n",
    "\n",
    "We can add some documentation within our function using a *docstring*. A docstring is simply a string that appears as the first statement within the function body, and is used by the `help` function. A good docstring describes what the function does, and provides some explanation about the arguments.\n"
   ]
  },
  {
   "cell_type": "code",
   "execution_count": 53,
   "id": "d9105661",
   "metadata": {},
   "outputs": [],
   "source": [
    "def emi(amount,time,rate_of_interest,downpayment=0):\n",
    "    '''calculates easy  monthly installment for a loan by envoking\n",
    "    emi(amount,time(months),rate_of_interest(yearly),downpayment)\n",
    "    arguments:loan=amount-downpayment\n",
    "    rate=rate_of_interest/12\n",
    "    time_in_months=time\n",
    "    \n",
    "    emi=(loan*rate*((1+rate)**time))/(((1+rate)**time)-1)\n",
    "   \n",
    "    '''\n",
    "    loan=amount-downpayment\n",
    "    rate=rate_of_interest/12\n",
    "    time_in_months=time\n",
    "    try:\n",
    "        emi=(loan*rate*((1+rate)**time))/(((1+rate)**time)-1)\n",
    "    except ZeroDivisionError:emi=loan/time\n",
    "    return math.ceil(emi)"
   ]
  },
  {
   "cell_type": "code",
   "execution_count": 54,
   "id": "2f5b8213",
   "metadata": {},
   "outputs": [
    {
     "name": "stdout",
     "output_type": "stream",
     "text": [
      "Help on function emi in module __main__:\n",
      "\n",
      "emi(amount, time, rate_of_interest, downpayment=0)\n",
      "    calculates easy  monthly installment for a loan by envoking\n",
      "    emi(amount,time(months),rate_of_interest(yearly),downpayment)\n",
      "    arguments:loan=amount-downpayment\n",
      "    rate=rate_of_interest/12\n",
      "    time_in_months=time\n",
      "    \n",
      "    emi=(loan*rate*((1+rate)**time))/(((1+rate)**time)-1)\n",
      "\n"
     ]
    }
   ],
   "source": [
    "##to check the documentation\n",
    "help(emi)"
   ]
  },
  {
   "cell_type": "code",
   "execution_count": 57,
   "id": "8671c761",
   "metadata": {},
   "outputs": [],
   "source": [
    "!pip install jovian --upgrade --quiet\n",
    "import jovian"
   ]
  },
  {
   "cell_type": "code",
   "execution_count": null,
   "id": "10fadadf",
   "metadata": {},
   "outputs": [],
   "source": []
  },
  {
   "cell_type": "code",
   "execution_count": 59,
   "id": "3c41dd20",
   "metadata": {},
   "outputs": [
    {
     "data": {
      "application/javascript": [
       "window.require && require([\"base/js/namespace\"],function(Jupyter){Jupyter.notebook.save_checkpoint()})"
      ],
      "text/plain": [
       "<IPython.core.display.Javascript object>"
      ]
     },
     "metadata": {},
     "output_type": "display_data"
    },
    {
     "name": "stdout",
     "output_type": "stream",
     "text": [
      "[jovian] Committed successfully! https://jovian.ai/pranav-prabhakar1401/conditional-functions-loops\u001b[0m\n"
     ]
    },
    {
     "data": {
      "text/plain": [
       "'https://jovian.ai/pranav-prabhakar1401/conditional-functions-loops'"
      ]
     },
     "execution_count": 59,
     "metadata": {},
     "output_type": "execute_result"
    }
   ],
   "source": [
    "jovian.commit()"
   ]
  },
  {
   "cell_type": "markdown",
   "id": "7d222a94",
   "metadata": {},
   "source": [
    "## Exercise - Data Analysis for Vacation Planning\n",
    "\n",
    "You're planning a vacation, and you need to decide which city you want to visit. You have shortlisted four cities and identified the return flight cost, daily hotel cost, and weekly car rental cost. While renting a car, you need to pay for entire weeks, even if you return the car sooner.\n",
    "\n",
    "\n",
    "| City | Return Flight (`$`) | Hotel per day (`$`) | Weekly Car Rental  (`$`) | \n",
    "|------|--------------------------|------------------|------------------------|\n",
    "| Paris|       200                |       20         |          200           |\n",
    "| London|      250                |       30         |          120           |\n",
    "| Dubai|       370                |       15         |          80           |\n",
    "| Mumbai|      450                |       10         |          70           |         \n",
    "\n",
    "\n",
    "Answer the following questions using the data above:\n",
    "\n",
    "1. If you're planning a 1-week long trip, which city should you visit to spend the least amount of money?\n",
    "2. How does the answer to the previous question change if you change the trip's duration to four days, ten days or two weeks?\n",
    "3. If your total budget for the trip is `$1000`, which city should you visit to maximize the duration of your trip? Which city should you visit if you want to minimize the duration?\n",
    "4. How does the answer to the previous question change if your budget is `$600`, `$2000`, or `$1500`?\n",
    "\n",
    "*Hint: To answer these questions, it will help to define a function `cost_of_trip` with relevant inputs like flight cost, hotel rate, car rental rate, and duration of the trip. You may find the `math.ceil` function useful for calculating the total cost of car rental.*"
   ]
  },
  {
   "cell_type": "code",
   "execution_count": 60,
   "id": "480c1a9f",
   "metadata": {},
   "outputs": [],
   "source": [
    "def vac_cost(flight,hotel,car,weeks=1):\n",
    "    '''flight_cost_twice=flight\n",
    "        hotel_cost_day=hotel\n",
    "        car_cost_week=car'''\n",
    "    cost=flight*2+hotel*weeks*7+car*weeks\n",
    "    \n",
    "    return cost\n",
    "    \n",
    "    \n",
    "        \n",
    "\n",
    "    "
   ]
  },
  {
   "cell_type": "code",
   "execution_count": 61,
   "id": "a2feea8e",
   "metadata": {},
   "outputs": [
    {
     "data": {
      "text/plain": [
       "740"
      ]
     },
     "execution_count": 61,
     "metadata": {},
     "output_type": "execute_result"
    }
   ],
   "source": [
    "paris_cost=vac_cost(flight=200,\n",
    "                   hotel=20,\n",
    "                   car=200)\n",
    "paris_cost"
   ]
  },
  {
   "cell_type": "code",
   "execution_count": 62,
   "id": "db8e24d9",
   "metadata": {},
   "outputs": [
    {
     "data": {
      "text/plain": [
       "830"
      ]
     },
     "execution_count": 62,
     "metadata": {},
     "output_type": "execute_result"
    }
   ],
   "source": [
    "london_cost=vac_cost(flight=250,\n",
    "                   hotel=30,\n",
    "                   car=120)\n",
    "london_cost"
   ]
  },
  {
   "cell_type": "code",
   "execution_count": 63,
   "id": "6856183c",
   "metadata": {},
   "outputs": [
    {
     "data": {
      "text/plain": [
       "925"
      ]
     },
     "execution_count": 63,
     "metadata": {},
     "output_type": "execute_result"
    }
   ],
   "source": [
    "dubai_cost=vac_cost(flight=370,\n",
    "                   hotel=15,\n",
    "                   car=80)\n",
    "dubai_cost"
   ]
  },
  {
   "cell_type": "code",
   "execution_count": 64,
   "id": "90b2d4e0",
   "metadata": {},
   "outputs": [
    {
     "data": {
      "text/plain": [
       "1040"
      ]
     },
     "execution_count": 64,
     "metadata": {},
     "output_type": "execute_result"
    }
   ],
   "source": [
    "mumbai_cost=vac_cost(flight=450,\n",
    "                   hotel=10,\n",
    "                   car=70)\n",
    "mumbai_cost"
   ]
  },
  {
   "cell_type": "markdown",
   "id": "908eff47",
   "metadata": {},
   "source": [
    "If you're planning a 1-week long trip, which city should you visit to spend the least amount of money?\n",
    "\n",
    ">*`go to paris`*"
   ]
  },
  {
   "cell_type": "code",
   "execution_count": 65,
   "id": "c99c6bfc",
   "metadata": {},
   "outputs": [],
   "source": [
    "##lambda function\n",
    "\n",
    "even=lambda num:num%2==0"
   ]
  },
  {
   "cell_type": "code",
   "execution_count": 66,
   "id": "c6537de9",
   "metadata": {},
   "outputs": [
    {
     "data": {
      "text/plain": [
       "True"
      ]
     },
     "execution_count": 66,
     "metadata": {},
     "output_type": "execute_result"
    }
   ],
   "source": [
    "\n",
    "even(2)"
   ]
  },
  {
   "cell_type": "code",
   "execution_count": 67,
   "id": "f77457cf",
   "metadata": {},
   "outputs": [],
   "source": [
    "sum=lambda x=0,y=0,z=0:x+y+z"
   ]
  },
  {
   "cell_type": "code",
   "execution_count": 68,
   "id": "e89426c6",
   "metadata": {},
   "outputs": [
    {
     "data": {
      "text/plain": [
       "5"
      ]
     },
     "execution_count": 68,
     "metadata": {},
     "output_type": "execute_result"
    }
   ],
   "source": [
    "sum(2,3)"
   ]
  },
  {
   "cell_type": "code",
   "execution_count": 69,
   "id": "5dac8579",
   "metadata": {},
   "outputs": [
    {
     "data": {
      "text/plain": [
       "0"
      ]
     },
     "execution_count": 69,
     "metadata": {},
     "output_type": "execute_result"
    }
   ],
   "source": [
    "sum()"
   ]
  },
  {
   "cell_type": "code",
   "execution_count": 70,
   "id": "2ee7b42a",
   "metadata": {},
   "outputs": [
    {
     "data": {
      "text/plain": [
       "[False, True, False, True, False, False, True, False, False, True]"
      ]
     },
     "execution_count": 70,
     "metadata": {},
     "output_type": "execute_result"
    }
   ],
   "source": [
    "##map function\n",
    "even=lambda a:a%2==0\n",
    "lst=[1,2,3,4,5,5,6,7,7,8]\n",
    "lst2=[1,2,3,4,5,6,7,8,8,9]\n",
    "\n",
    "list(map(even,lst))"
   ]
  },
  {
   "cell_type": "code",
   "execution_count": 71,
   "id": "f13b2f4c",
   "metadata": {},
   "outputs": [
    {
     "data": {
      "text/plain": [
       "[2, 4, 6, 8]"
      ]
     },
     "execution_count": 71,
     "metadata": {},
     "output_type": "execute_result"
    }
   ],
   "source": [
    "##filter function\n",
    "list(filter(even,lst))"
   ]
  },
  {
   "cell_type": "code",
   "execution_count": 72,
   "id": "b34b8731",
   "metadata": {},
   "outputs": [
    {
     "data": {
      "text/plain": [
       "[4, 5, 5, 6, 7, 7, 8]"
      ]
     },
     "execution_count": 72,
     "metadata": {},
     "output_type": "execute_result"
    }
   ],
   "source": [
    "list(filter(lambda a:a>3,lst))\n",
    "\n",
    "\n",
    "\n",
    "    \n",
    "\n"
   ]
  },
  {
   "cell_type": "code",
   "execution_count": null,
   "id": "a3f78454",
   "metadata": {},
   "outputs": [],
   "source": []
  }
 ],
 "metadata": {
  "kernelspec": {
   "display_name": "Python 3 (ipykernel)",
   "language": "python",
   "name": "python3"
  },
  "language_info": {
   "codemirror_mode": {
    "name": "ipython",
    "version": 3
   },
   "file_extension": ".py",
   "mimetype": "text/x-python",
   "name": "python",
   "nbconvert_exporter": "python",
   "pygments_lexer": "ipython3",
   "version": "3.9.12"
  }
 },
 "nbformat": 4,
 "nbformat_minor": 5
}
